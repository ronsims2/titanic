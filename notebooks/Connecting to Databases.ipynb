{
 "cells": [
  {
   "cell_type": "code",
   "execution_count": 9,
   "metadata": {
    "collapsed": false
   },
   "outputs": [],
   "source": [
    "import sqlite3"
   ]
  },
  {
   "cell_type": "code",
   "execution_count": 10,
   "metadata": {
    "collapsed": false
   },
   "outputs": [],
   "source": [
    "conn = sqlite3.connect(\"classroom.db\")\n",
    "cursor = conn.cursor()\n",
    "\n",
    "create_table = \"\"\"\n",
    "                CREATE TABLE IF NOT EXISTS CLASSROOM (\n",
    "                STUDENT_ID INTEGER PRIMARY KEY, \n",
    "                NAME VARCHAR(20), \n",
    "                GENDER CHAR(1), \n",
    "                PHYSICS_MARKS INTEGER, \n",
    "                CHEMISTRY_MARKS INTEGER, \n",
    "                MATHEMATICS INTEGER);\"\"\"\n",
    "\n",
    "cursor.execute(create_table)\n",
    "conn.commit()\n",
    "conn.close()"
   ]
  },
  {
   "cell_type": "code",
   "execution_count": null,
   "metadata": {
    "collapsed": true
   },
   "outputs": [],
   "source": []
  },
  {
   "cell_type": "code",
   "execution_count": null,
   "metadata": {
    "collapsed": true
   },
   "outputs": [],
   "source": []
  }
 ],
 "metadata": {
  "kernelspec": {
   "display_name": "Python 3",
   "language": "python",
   "name": "python3"
  },
  "language_info": {
   "codemirror_mode": {
    "name": "ipython",
    "version": 3
   },
   "file_extension": ".py",
   "mimetype": "text/x-python",
   "name": "python",
   "nbconvert_exporter": "python",
   "pygments_lexer": "ipython3",
   "version": "3.6.0"
  }
 },
 "nbformat": 4,
 "nbformat_minor": 2
}
